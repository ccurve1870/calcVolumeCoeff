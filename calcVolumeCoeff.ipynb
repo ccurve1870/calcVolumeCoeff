{
 "metadata": {
  "language_info": {
   "codemirror_mode": {
    "name": "ipython",
    "version": 3
   },
   "file_extension": ".py",
   "mimetype": "text/x-python",
   "name": "python",
   "nbconvert_exporter": "python",
   "pygments_lexer": "ipython3",
   "version": "3.7.9"
  },
  "orig_nbformat": 2,
  "kernelspec": {
   "name": "python379jvsc74a57bd0fd9ba24f3a295a5eb35c3d547b8775e76ddd3547188cc1cd81b2309f957eca06",
   "display_name": "Python 3.7.9 64-bit ('base': conda)"
  }
 },
 "nbformat": 4,
 "nbformat_minor": 2,
 "cells": [
  {
   "cell_type": "code",
   "execution_count": 9,
   "metadata": {},
   "outputs": [],
   "source": [
    "import sympy\n",
    "import numpy as np\n",
    "import matplotlib.pyplot as plt\n"
   ]
  },
  {
   "source": [
    "典型的な侵徹体の質量を、その形状因子のみから計算することを目的とする。\n",
    "\n",
    "質量は体積が明らかであれば密度を掛ければ算出できるので、ここでは特に体積の導出方法について検討する。\n",
    "\n",
    "侵徹体の形状は様々なものがあるが、ここでは以下のように、半径$a$、長さ$L$の円柱部に半径$s$の円を侵徹体軸上で回転させた先端部を貼り付けた侵徹体を考える。この侵徹体形状は低速度侵徹を解析的に解くことが可能な形状であり、侵徹の試験において多く用いられている。\n",
    "\n",
    "このような侵徹体の先端形状を定義する際に、CRH(Calibre-Head radius)と呼ばれる以下の指標を用いる。\n",
    "\n",
    "$$ \\psi = \\frac{s}{2a}$$\n",
    "\n",
    "この指標を用いることで、侵徹を簡潔に表すことができる。\n",
    "\n",
    "本項の目標は、上述の特徴を有する侵徹体の体積$V$を\n",
    "\n",
    "$$ V = \\pi a^2 (L+ka)$$\n",
    "\n",
    "のように、円柱部の断面積を用いて簡潔に表現することである。"
   ],
   "cell_type": "markdown",
   "metadata": {}
  },
  {
   "cell_type": "code",
   "execution_count": 2,
   "metadata": {},
   "outputs": [
    {
     "output_type": "stream",
     "name": "stdout",
     "text": [
      "2.0\n"
     ]
    },
    {
     "output_type": "display_data",
     "data": {
      "text/plain": "<Figure size 432x288 with 1 Axes>",
      "image/svg+xml": "<?xml version=\"1.0\" encoding=\"utf-8\" standalone=\"no\"?>\r\n<!DOCTYPE svg PUBLIC \"-//W3C//DTD SVG 1.1//EN\"\r\n  \"http://www.w3.org/Graphics/SVG/1.1/DTD/svg11.dtd\">\r\n<!-- Created with matplotlib (https://matplotlib.org/) -->\r\n<svg height=\"135.307323pt\" version=\"1.1\" viewBox=\"0 0 349.2 135.307323\" width=\"349.2pt\" xmlns=\"http://www.w3.org/2000/svg\" xmlns:xlink=\"http://www.w3.org/1999/xlink\">\r\n <metadata>\r\n  <rdf:RDF xmlns:cc=\"http://creativecommons.org/ns#\" xmlns:dc=\"http://purl.org/dc/elements/1.1/\" xmlns:rdf=\"http://www.w3.org/1999/02/22-rdf-syntax-ns#\">\r\n   <cc:Work>\r\n    <dc:type rdf:resource=\"http://purl.org/dc/dcmitype/StillImage\"/>\r\n    <dc:date>2021-05-01T17:18:59.897577</dc:date>\r\n    <dc:format>image/svg+xml</dc:format>\r\n    <dc:creator>\r\n     <cc:Agent>\r\n      <dc:title>Matplotlib v3.3.2, https://matplotlib.org/</dc:title>\r\n     </cc:Agent>\r\n    </dc:creator>\r\n   </cc:Work>\r\n  </rdf:RDF>\r\n </metadata>\r\n <defs>\r\n  <style type=\"text/css\">*{stroke-linecap:butt;stroke-linejoin:round;}</style>\r\n </defs>\r\n <g id=\"figure_1\">\r\n  <g id=\"patch_1\">\r\n   <path d=\"M 0 135.307323 \r\nL 349.2 135.307323 \r\nL 349.2 0 \r\nL 0 0 \r\nz\r\n\" style=\"fill:none;\"/>\r\n  </g>\r\n  <g id=\"axes_1\">\r\n   <g id=\"patch_2\">\r\n    <path d=\"M 7.2 128.107323 \r\nL 342 128.107323 \r\nL 342 7.2 \r\nL 7.2 7.2 \r\nz\r\n\" style=\"fill:#ffffff;\"/>\r\n   </g>\r\n   <g id=\"matplotlib.axis_1\"/>\r\n   <g id=\"matplotlib.axis_2\"/>\r\n   <g id=\"line2d_1\">\r\n    <path clip-path=\"url(#p63c626a7c5)\" d=\"M 22.418182 67.653661 \r\nL 22.418182 21.855433 \r\nL 210.959822 21.933534 \r\nL 217.638782 22.250704 \r\nL 224.301719 22.811402 \r\nL 230.939755 23.614881 \r\nL 237.544048 24.660071 \r\nL 244.105799 25.945579 \r\nL 250.616267 27.469693 \r\nL 257.066777 29.230383 \r\nL 263.448736 31.225302 \r\nL 269.753643 33.451793 \r\nL 275.973097 35.90689 \r\nL 282.098812 38.587322 \r\nL 288.122629 41.489518 \r\nL 294.036521 44.609612 \r\nL 299.832611 47.943447 \r\nL 305.503176 51.486581 \r\nL 311.040662 55.234295 \r\nL 316.437691 59.181595 \r\nL 321.687075 63.323223 \r\nL 326.781818 67.653661 \r\nL 326.781818 67.653661 \r\nL 321.687075 71.9841 \r\nL 316.437691 76.125728 \r\nL 311.040662 80.073028 \r\nL 305.503176 83.820742 \r\nL 299.832611 87.363876 \r\nL 294.036521 90.697711 \r\nL 288.122629 93.817805 \r\nL 282.098812 96.720001 \r\nL 275.973097 99.400433 \r\nL 269.753643 101.85553 \r\nL 263.448736 104.082021 \r\nL 257.066777 106.07694 \r\nL 250.616267 107.83763 \r\nL 244.105799 109.361744 \r\nL 237.544048 110.647252 \r\nL 230.939755 111.692442 \r\nL 224.301719 112.495921 \r\nL 217.638782 113.056619 \r\nL 210.959822 113.373789 \r\nL 205.611095 113.45189 \r\nL 205.611095 113.45189 \r\nL 22.418182 113.45189 \r\nL 22.418182 67.653661 \r\nL 22.418182 67.653661 \r\n\" style=\"fill:none;stroke:#1f77b4;stroke-linecap:square;stroke-width:1.5;\"/>\r\n   </g>\r\n   <g id=\"line2d_2\">\r\n    <path clip-path=\"url(#p63c626a7c5)\" d=\"M 205.611095 12.695787 \r\nL 205.611095 122.611536 \r\n\" style=\"fill:none;stroke:#000000;stroke-linecap:square;stroke-width:1.5;\"/>\r\n   </g>\r\n  </g>\r\n </g>\r\n <defs>\r\n  <clipPath id=\"p63c626a7c5\">\r\n   <rect height=\"120.907323\" width=\"334.8\" x=\"7.2\" y=\"7.2\"/>\r\n  </clipPath>\r\n </defs>\r\n</svg>\r\n",
      "image/png": "[encoded data removed]"
     },
     "metadata": {}
    }
   ],
   "source": [
    "L = 2 # 円柱長さ\n",
    "s = 2 # 侵徹体先端円弧半径\n",
    "a = 0.5 # 侵徹体径\n",
    "psi = s/2/a #CRH\n",
    "\n",
    "l = a*np.sqrt(4*psi-1) # 先端部長さ(図参照)\n",
    "L0 = L + l # 全長\n",
    "print(psi)\n",
    "theta0 =np.arcsin((2*psi-1)/psi/2)\n",
    "theta = np.linspace(np.pi/2,theta0,100)\n",
    "x = np.array([-L,-L,0])\n",
    "y = np.array([0,a,a])\n",
    "x = np.hstack([x,s*np.cos(theta)])\n",
    "y = np.hstack([y, s*np.sin(theta)-(s-a)])\n",
    "x = np.hstack([x,x[::-1]])\n",
    "y = np.hstack([y,-y[::-1]])\n",
    "fig,ax=plt.subplots()\n",
    "ax.plot(x,y)\n",
    "ax.plot([0,0],[a*1.2,-a*1.2],\"k-\")\n",
    "ax.set_xticks([])\n",
    "ax.set_yticks([])\n",
    "plt.gca().spines['right'].set_visible(False)\n",
    "plt.gca().spines['top'].set_visible(False)\n",
    "plt.gca().spines['left'].set_visible(False)\n",
    "plt.gca().spines[\"bottom\"].set_visible(False)\n",
    "ax.set_aspect(\"equal\")\n",
    "fig.savefig(\"crh2.png\",dpi=300)\n"
   ]
  },
  {
   "cell_type": "code",
   "execution_count": 3,
   "metadata": {},
   "outputs": [
    {
     "output_type": "execute_result",
     "data": {
      "text/plain": [
       "a*sqrt(4*psi - 1)"
      ],
      "text/latex": "$\\displaystyle a \\sqrt{4 \\psi - 1}$"
     },
     "metadata": {},
     "execution_count": 3
    }
   ],
   "source": [
    "L,l,a,s, psi,theta, thetaD,k = sympy.symbols(\"L,l,a,s,psi,theta, theta_0, k\")\n",
    "theta0 = sympy.asin((2*psi-1)/psi/2)\n",
    "\n",
    "l = s*sympy.cos(theta0)\n",
    "l = a*sympy.sqrt(4*psi-1)\n",
    "l"
   ]
  },
  {
   "source": [
    "侵徹体先端部の重さ(=体積)を求める。\n",
    "\n",
    "侵徹体軸上に、$\\theta_0 \\rightarrow \\pi/2$の範囲で存在する半径$s$の円の体積を求めるためには、\n",
    "\n",
    "$$ y = s \\sin{(theta)} - (s-a) $$\n",
    "$$ x = s \\cos{(theta)}$$\n",
    "$$ I = \\int_{\\theta_0}^{\\frac{\\pi}{2}} \\pi y^2 dx$$\n",
    "\n",
    "を解けばいいので、以下のように解く。\n"
   ],
   "cell_type": "markdown",
   "metadata": {}
  },
  {
   "cell_type": "code",
   "execution_count": 4,
   "metadata": {},
   "outputs": [
    {
     "output_type": "stream",
     "name": "stdout",
     "text": [
      "a = Symbol('a')\npsi = Symbol('psi')\ntheta = Symbol('theta')\ne = 2*a*psi*sin(theta) - 2*a*psi + a\ns = Symbol('s')\ntheta = Symbol('theta')\ne = s*cos(theta)\ns = Symbol('s')\ntheta = Symbol('theta')\ne = -s*sin(theta)\n"
     ]
    }
   ],
   "source": [
    "y = 2*a*psi*sympy.sin(theta)-(2*a*psi-a)\n",
    "x = s*sympy.cos(theta)\n",
    "dx = sympy.diff(x,theta)\n",
    "f = sympy.pi*(y*y*dx).subs([[s,2*a*psi]])\n",
    "I = sympy.integrate(f,(theta,theta0, sympy.pi/2)).simplify().subs([[sympy.sqrt((4*psi-1)/psi**2), sympy.sqrt(4*psi-1)/psi]])\n",
    "\n",
    "sympy.printing.print_python(y)\n",
    "sympy.printing.print_python(x)\n",
    "sympy.printing.print_python(dx)\n"
   ]
  },
  {
   "source": [
    "すこし面倒だが、式を整理してきれいな形にする。"
   ],
   "cell_type": "markdown",
   "metadata": {}
  },
  {
   "cell_type": "code",
   "execution_count": 5,
   "metadata": {},
   "outputs": [
    {
     "output_type": "execute_result",
     "data": {
      "text/plain": [
       "-8*a**3*psi**3*theta_0 + 4*pi*a**3*psi**3 + 4*a**3*psi**2*theta_0 - 4*a**3*psi**2*sqrt(4*psi - 1) - 2*pi*a**3*psi**2 + 4*a**3*psi*sqrt(4*psi - 1)/3 - a**3*sqrt(4*psi - 1)/3"
      ],
      "text/latex": "$\\displaystyle - 8 a^{3} \\psi^{3} \\theta_{0} + 4 \\pi a^{3} \\psi^{3} + 4 a^{3} \\psi^{2} \\theta_{0} - 4 a^{3} \\psi^{2} \\sqrt{4 \\psi - 1} - 2 \\pi a^{3} \\psi^{2} + \\frac{4 a^{3} \\psi \\sqrt{4 \\psi - 1}}{3} - \\frac{a^{3} \\sqrt{4 \\psi - 1}}{3}$"
     },
     "metadata": {},
     "execution_count": 5
    }
   ],
   "source": [
    "Is = (I/sympy.pi).expand().subs(sympy.asin((2*psi-1)/2/psi).expand(),thetaD) # thetaDは theta_0の記号の仮置き, 後の式変形をしやすいようにπで割っておく\n",
    "Is"
   ]
  },
  {
   "cell_type": "code",
   "execution_count": 6,
   "metadata": {},
   "outputs": [
    {
     "output_type": "execute_result",
     "data": {
      "text/plain": [
       "pi*a**3*(psi**3*(-8*theta_0 + 4*pi) + psi**2*(4*theta_0 - 2*pi) + sqrt(4*psi - 1)*(-4*psi**2 + 4*psi/3 - 1/3))"
      ],
      "text/latex": "$\\displaystyle \\pi a^{3} \\left(\\psi^{3} \\left(- 8 \\theta_{0} + 4 \\pi\\right) + \\psi^{2} \\left(4 \\theta_{0} - 2 \\pi\\right) + \\sqrt{4 \\psi - 1} \\left(- 4 \\psi^{2} + \\frac{4 \\psi}{3} - \\frac{1}{3}\\right)\\right)$"
     },
     "metadata": {},
     "execution_count": 6
    }
   ],
   "source": [
    "Id = sympy.pi*sympy.collect(sympy.collect(sympy.collect(Is, sympy.sqrt(4*psi-1)), psi), a)\n",
    "Id"
   ]
  },
  {
   "source": [
    "ここで、 $\\psi^3, \\psi^2$で括られている項に着目すると、それぞれ、\n",
    "$$-8\\psi^3\\left(\\theta_0-\\pi/2 \\right), -4\\psi^2\\left(\\theta_0-\\pi/2\\right)$$\n",
    "となる。ところで、$\\theta_0$は、$\\sin$が$\\frac{2\\psi-1}{2\\psi}$となる角度($\\theta_0=\\sin^{-1}{(\\sin{(\\theta_0)})}$)であった。今、$\\sin$と$\\cos$の関係から\n",
    "\n",
    "$$ \\sin{(\\theta_0-\\pi/2)} =  \\cos{(\\theta_0)} $$\n",
    "$$ \\cos{(\\theta_0)} = \\sqrt{1-\\sin^2{(\\theta_0)}} = \\frac{\\sqrt{4\\psi-1}}{2\\psi} $$\n",
    "\n",
    "であること、また、\n",
    "$$ \\sin{(\\theta_0-\\pi/2)} =  \\cos{(\\theta_0)} $$\n",
    "から\n",
    "$$ \\theta_0 - \\pi/2 =\\sin^{-1}{(\\cos{(\\theta_0)})}$$\n",
    "であることから、\n",
    "$$ \\theta_0 - \\pi/2 =\\sin^{-1}{\\frac{\\sqrt{4\\psi-1}}{2\\psi} }$$\n",
    "\n",
    "を得る。よって、上セルを適当に置換することで、先端部の体積を以下のように得ることが出来、当初の目標であった$k$を以下のように得ることが出来る。\n"
   ],
   "cell_type": "markdown",
   "metadata": {}
  },
  {
   "cell_type": "code",
   "execution_count": 7,
   "metadata": {},
   "outputs": [
    {
     "output_type": "execute_result",
     "data": {
      "text/plain": [
       "pi*a**3*(-8*psi**3*asin(sqrt(4*psi - 1)/(2*psi)) + 4*psi**2*asin(sqrt(4*psi - 1)/(2*psi)) + sqrt(4*psi - 1)*(-4*psi**2 + 4*psi/3 - 1/3))"
      ],
      "text/latex": "$\\displaystyle \\pi a^{3} \\left(- 8 \\psi^{3} \\operatorname{asin}{\\left(\\frac{\\sqrt{4 \\psi - 1}}{2 \\psi} \\right)} + 4 \\psi^{2} \\operatorname{asin}{\\left(\\frac{\\sqrt{4 \\psi - 1}}{2 \\psi} \\right)} + \\sqrt{4 \\psi - 1} \\left(- 4 \\psi^{2} + \\frac{4 \\psi}{3} - \\frac{1}{3}\\right)\\right)$"
     },
     "metadata": {},
     "execution_count": 7
    }
   ],
   "source": [
    "Ia = Id.subs([[-8*thetaD+4*sympy.pi, -8*sympy.asin(sympy.sqrt(4*psi-1)/2/psi)], [4*thetaD-2*sympy.pi, 4*sympy.asin(sympy.sqrt(4*psi-1)/2/psi)]])\n",
    "Ia\n"
   ]
  },
  {
   "cell_type": "code",
   "execution_count": 8,
   "metadata": {},
   "outputs": [
    {
     "output_type": "execute_result",
     "data": {
      "text/plain": [
       "Eq(k, pi*a**3*(-4*psi**2*(2*psi - 1)*asin(sqrt(4*psi - 1)/(2*psi)) + sqrt(4*psi - 1)*(-4*psi**2 + 4*psi/3 - 1/3)))"
      ],
      "text/latex": "$\\displaystyle k = \\pi a^{3} \\left(- 4 \\psi^{2} \\left(2 \\psi - 1\\right) \\operatorname{asin}{\\left(\\frac{\\sqrt{4 \\psi - 1}}{2 \\psi} \\right)} + \\sqrt{4 \\psi - 1} \\left(- 4 \\psi^{2} + \\frac{4 \\psi}{3} - \\frac{1}{3}\\right)\\right)$"
     },
     "metadata": {},
     "execution_count": 8
    }
   ],
   "source": [
    "Vo = Ia.subs(-8*psi**3*sympy.asin(sympy.sqrt(4*psi-1)/2/psi)+4*psi**2*sympy.asin(sympy.sqrt(4*psi-1)/2/psi), -4*psi**2*(2*psi-1)*sympy.asin(sympy.sqrt(4*psi-1)/2/psi))\n",
    "sympy.Eq(k,Vo/sympy.pi/a**3)"
   ]
  },
  {
   "cell_type": "code",
   "execution_count": 62,
   "metadata": {},
   "outputs": [
    {
     "output_type": "execute_result",
     "data": {
      "text/plain": [
       "Eq(k, 8.0*a**3*(-8*psi**3*asin(sqrt(4*psi - 1)/(2*psi)) + 4*psi**2*asin(sqrt(4*psi - 1)/(2*psi)) + sqrt(4*psi - 1)*(-4*psi**2 + 4*psi/3 - 1/3)))"
      ],
      "text/latex": "$\\displaystyle k = 8.0 a^{3} \\left(- 8 \\psi^{3} \\operatorname{asin}{\\left(\\frac{\\sqrt{4 \\psi - 1}}{2 \\psi} \\right)} + 4 \\psi^{2} \\operatorname{asin}{\\left(\\frac{\\sqrt{4 \\psi - 1}}{2 \\psi} \\right)} + \\sqrt{4 \\psi - 1} \\left(- 4 \\psi^{2} + \\frac{4 \\psi}{3} - \\frac{1}{3}\\right)\\right)$"
     },
     "metadata": {},
     "execution_count": 62
    }
   ],
   "source": []
  }
 ]
}